{
  "nbformat": 4,
  "nbformat_minor": 0,
  "metadata": {
    "colab": {
      "provenance": []
    },
    "kernelspec": {
      "name": "python3",
      "display_name": "Python 3"
    },
    "language_info": {
      "name": "python"
    }
  },
  "cells": [
    {
      "cell_type": "code",
      "execution_count": 1,
      "metadata": {
        "id": "kzDgrUPzkElE"
      },
      "outputs": [],
      "source": [
        "import numpy as np\n",
        "import pandas as pd\n",
        "import sklearn\n",
        "\n"
      ]
    },
    {
      "cell_type": "code",
      "source": [
        "\n",
        "from sklearn.datasets import load_boston\n",
        "dfw= load_boston()\n",
        "\n"
      ],
      "metadata": {
        "id": "MSl6gQNPkQI0"
      },
      "execution_count": null,
      "outputs": []
    },
    {
      "cell_type": "code",
      "source": [
        "dfw.keys() \n",
        "print(dfw.data)\n",
        "\n",
        "print(dfw.target)\n",
        "\n",
        "print(dfw.feature_names)\n",
        "\n",
        "print(dfw.DESCR)\n",
        "\n",
        "print(dfw.filename)"
      ],
      "metadata": {
        "id": "-9fMBeeEkS9X"
      },
      "execution_count": null,
      "outputs": []
    },
    {
      "cell_type": "code",
      "source": [
        "\n",
        "boston = pd.DataFrame(dfw.data, columns=dfw.feature_names)\n",
        "boston.head()\n",
        "\n",
        "boston['Prediction'] = dfw.target\n",
        "boston.head()\n"
      ],
      "metadata": {
        "id": "73FSozFmknFR"
      },
      "execution_count": null,
      "outputs": []
    },
    {
      "cell_type": "code",
      "source": [
        "\n",
        "from sklearn.model_selection import train_test_split\n",
        "\n",
        "X = boston.drop (\"Prediction\",axis=1)\n",
        "Y = boston[\"Prediction\"]\n",
        "\n",
        "X_train ,X_test, Y_train, Y_test = train_test_split(X,Y, test_size = 0.17, random_state=4)\n",
        "\n",
        "print(X_train.shape)\n",
        "print(X_test.shape)\n",
        "print(Y_train.shape)\n",
        "print(Y_test.shape)"
      ],
      "metadata": {
        "id": "Tc1zvMdnk6_O"
      },
      "execution_count": null,
      "outputs": []
    },
    {
      "cell_type": "code",
      "source": [
        "from sklearn.linear_model import LinearRegression\n",
        "from sklearn.metrics import mean_squared_error\n",
        "\n",
        "lin_model = LinearRegression()\n",
        "lin_model.fit(X_train,Y_train)\n",
        "\n",
        "#training set\n",
        "y_train_predict = lin_model.predict(X_train)\n",
        "error = (np.sqrt(mean_squared_error(Y_train, y_train_predict)))\n",
        "\n",
        "print(\"The Model Performance for Training Set\")\n",
        "print(\"Root Mean Squared Error is {}\".format(error))\n",
        "print(\"\\n\")\n",
        "\n",
        "\n",
        "#testing set\n",
        "y_test_predict = lin_model.predict(X_test)\n",
        "error = (np.sqrt(mean_squared_error(Y_test, y_test_predict)))\n",
        "\n",
        "print(\"The Model Performance for Testing Set\")\n",
        "print(\"Root Mean Squared Error is {}\".format(error))\n",
        "print(\"\\n\")"
      ],
      "metadata": {
        "id": "5Hxpq79llM8S"
      },
      "execution_count": null,
      "outputs": []
    }
  ]
}